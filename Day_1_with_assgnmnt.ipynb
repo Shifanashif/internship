{
  "nbformat": 4,
  "nbformat_minor": 0,
  "metadata": {
    "colab": {
      "provenance": [],
      "authorship_tag": "ABX9TyMTmI7dZYxFlKgZTfu7BbNn",
      "include_colab_link": true
    },
    "kernelspec": {
      "name": "python3",
      "display_name": "Python 3"
    },
    "language_info": {
      "name": "python"
    }
  },
  "cells": [
    {
      "cell_type": "markdown",
      "metadata": {
        "id": "view-in-github",
        "colab_type": "text"
      },
      "source": [
        "<a href=\"https://colab.research.google.com/github/Shifanashif/internship/blob/main/Day_1_with_assgnmnt.ipynb\" target=\"_parent\"><img src=\"https://colab.research.google.com/assets/colab-badge.svg\" alt=\"Open In Colab\"/></a>"
      ]
    },
    {
      "cell_type": "code",
      "execution_count": null,
      "metadata": {
        "colab": {
          "base_uri": "https://localhost:8080/"
        },
        "id": "Xq0h6hc0xnuU",
        "outputId": "5d71a6a4-211a-4082-8ab5-d08b3b6edbe2"
      },
      "outputs": [
        {
          "output_type": "stream",
          "name": "stdout",
          "text": [
            "enter the number:2\n",
            "enter the number:4\n",
            "select operation:\n",
            "1.Add:\n",
            "2.Subtract:\n",
            "3.Multiply:\n",
            "4.Divide:\n",
            "enter your option :1\n",
            "6\n"
          ]
        }
      ],
      "source": [
        "#calculator\n",
        "a=int(input(\"enter the number:\"))\n",
        "b=int(input(\"enter the number:\"))\n",
        "print('select operation:')\n",
        "print('1.Add:')\n",
        "print('2.Subtract:')\n",
        "print('3.Multiply:')\n",
        "print('4.Divide:')\n",
        "n=int(input('enter your option :'))\n",
        "if(n==1):\n",
        "  r=a+b\n",
        "  print(r)\n",
        "elif(n==2):\n",
        "   r=a-b\n",
        "   print(r)\n",
        "elif(n==3):\n",
        "    r=a*b\n",
        "    print(r)\n",
        "elif(n==4):\n",
        "  r=a/b\n",
        "  print(r)\n",
        "else:\n",
        "    print('wrong input:')"
      ]
    },
    {
      "cell_type": "code",
      "source": [
        "#prime number or not\n",
        "num=int(input(\"Enter the number:\"))\n",
        "c=0\n",
        "i=1\n",
        "while(i<=num):\n",
        "  if num%i==0:\n",
        "    c=c+1\n",
        "  i=i+1\n",
        "if c==2:\n",
        "    print (\"number is prime\")\n",
        "else:\n",
        "    print(\"number is not prime\")\n"
      ],
      "metadata": {
        "colab": {
          "base_uri": "https://localhost:8080/"
        },
        "id": "YSUkVRDE5ZSr",
        "outputId": "e4d7bd2c-d8de-4e13-84a7-cac9a79277b3"
      },
      "execution_count": null,
      "outputs": [
        {
          "output_type": "stream",
          "name": "stdout",
          "text": [
            "Enter the number:1\n",
            "number is not prime\n"
          ]
        }
      ]
    },
    {
      "cell_type": "code",
      "source": [
        "#find a leap year\n",
        "year=int(input(\"enter the number:\")) \n",
        "if year%4==0:\n",
        "  print(\"leap year\")\n",
        "elif year%400==0:\n",
        "  print(\"leap year\")\n",
        "else:\n",
        "  print(\"not leap year\")"
      ],
      "metadata": {
        "colab": {
          "base_uri": "https://localhost:8080/"
        },
        "id": "deMjgjNn7YO7",
        "outputId": "5e2627e3-ae7a-47a0-80d8-5dad3ff83e5d"
      },
      "execution_count": null,
      "outputs": [
        {
          "output_type": "stream",
          "name": "stdout",
          "text": [
            "enter the number:2020\n",
            "leap year\n"
          ]
        }
      ]
    },
    {
      "cell_type": "code",
      "source": [
        "#sum of a number\n",
        "a=int(input(\"enter the number:\"))\n",
        "s=0\n",
        "for i in range (0,a+1):\n",
        "  s=s+i\n",
        "print(\"The sum is:\",s)"
      ],
      "metadata": {
        "colab": {
          "base_uri": "https://localhost:8080/"
        },
        "id": "WFFltRtn-jf5",
        "outputId": "888ff0dc-58d5-4d9e-cd8f-e696e3ac8f73"
      },
      "execution_count": null,
      "outputs": [
        {
          "output_type": "stream",
          "name": "stdout",
          "text": [
            "enter the number:5\n",
            "The sum is: 15\n"
          ]
        }
      ]
    },
    {
      "cell_type": "code",
      "source": [
        "def function_name(argument):\n",
        "  #function perform operation\n",
        "  "
      ],
      "metadata": {
        "id": "F8GwSlvoFXnE"
      },
      "execution_count": null,
      "outputs": []
    },
    {
      "cell_type": "code",
      "source": [
        "def greet():\n",
        "  print('HELLO')"
      ],
      "metadata": {
        "id": "SiWA5kfpFoeo"
      },
      "execution_count": null,
      "outputs": []
    },
    {
      "cell_type": "code",
      "source": [
        "greet()"
      ],
      "metadata": {
        "colab": {
          "base_uri": "https://localhost:8080/"
        },
        "id": "MHcTEvK2GVkU",
        "outputId": "b795b280-b867-4ffd-9bd1-00273c66f44b"
      },
      "execution_count": null,
      "outputs": [
        {
          "output_type": "stream",
          "name": "stdout",
          "text": [
            "HELLO\n"
          ]
        }
      ]
    },
    {
      "cell_type": "code",
      "source": [
        "#add a number\n",
        "def addnumber(num1,num2):\n",
        "  sum=num1+num2\n",
        "  print(sum)  \n",
        "addnumber(4,5)"
      ],
      "metadata": {
        "colab": {
          "base_uri": "https://localhost:8080/"
        },
        "id": "BsOBzcnHGdan",
        "outputId": "47120b31-ccef-495f-d0a4-88d7b5084930"
      },
      "execution_count": null,
      "outputs": [
        {
          "output_type": "stream",
          "name": "stdout",
          "text": [
            "9\n"
          ]
        }
      ]
    },
    {
      "cell_type": "code",
      "source": [
        "#square of a number\n",
        "def squarenumber(num1):\n",
        "  square=num1*num1\n",
        "  print(square)\n",
        "squarenumber(5)"
      ],
      "metadata": {
        "colab": {
          "base_uri": "https://localhost:8080/"
        },
        "id": "ZczH1uNhJrvX",
        "outputId": "291a4c58-363c-423f-8bf9-49f8293398cf"
      },
      "execution_count": null,
      "outputs": [
        {
          "output_type": "stream",
          "name": "stdout",
          "text": [
            "25\n"
          ]
        }
      ]
    },
    {
      "cell_type": "code",
      "source": [
        "#square of a number\n",
        "def sqr(a):\n",
        "  print(\"square of the number is:\",a*a)\n",
        "\n",
        "n=int(input(\"Enter the number:\"))\n",
        "sqr(n)"
      ],
      "metadata": {
        "colab": {
          "base_uri": "https://localhost:8080/"
        },
        "id": "9XUkwoxMKcQz",
        "outputId": "08ce72fe-3576-41bc-ff46-fa79b07884bd"
      },
      "execution_count": null,
      "outputs": [
        {
          "output_type": "stream",
          "name": "stdout",
          "text": [
            "Enter the number:4\n",
            "square of the number is: 16\n"
          ]
        }
      ]
    },
    {
      "cell_type": "markdown",
      "source": [
        "DAY 1 ASSIGNMENT"
      ],
      "metadata": {
        "id": "6HqKDyn559Wg"
      }
    },
    {
      "cell_type": "code",
      "source": [
        "#sum of all elements\n",
        "lst = []\n",
        "n=int(input(\"Enter number of elements : \"))\n",
        "for i in range(0,n):\n",
        "  print(\"Enter elements: \")\n",
        "  ele = int(input())\n",
        "  lst.append(ele) \n",
        "  print(lst)\n",
        "sum = 0\n",
        "for i in lst:\n",
        "  sum += i\n",
        "print(\"Sum of all elements in given list: \", sum)"
      ],
      "metadata": {
        "id": "484mRQSnNRKi",
        "colab": {
          "base_uri": "https://localhost:8080/"
        },
        "outputId": "3cfa3547-1238-4ab1-ce03-e6d81ee4c453"
      },
      "execution_count": null,
      "outputs": [
        {
          "output_type": "stream",
          "name": "stdout",
          "text": [
            "Enter number of elements : 3\n",
            "Enter elements: \n",
            "1\n",
            "[1]\n",
            "Enter elements: \n",
            "3\n",
            "[1, 3]\n",
            "Enter elements: \n",
            "5\n",
            "[1, 3, 5]\n",
            "Sum of all elements in given list:  9\n"
          ]
        }
      ]
    },
    {
      "cell_type": "code",
      "source": [
        "#string length and half of string\n",
        "string = input(\"Enter the string : \")\n",
        "N=0\n",
        "print(\"length of The String: \",len(string))\n",
        "print(\"First half of the string: \",string[:len(string)//2])"
      ],
      "metadata": {
        "id": "YUsudCR-VhHz",
        "colab": {
          "base_uri": "https://localhost:8080/"
        },
        "outputId": "e4cfd951-a7fd-46c0-8acb-f5d04f0a2b31"
      },
      "execution_count": null,
      "outputs": [
        {
          "output_type": "stream",
          "name": "stdout",
          "text": [
            "Enter the string : shifana\n",
            "length of The String:  7\n",
            "First half of the string:  shi\n"
          ]
        }
      ]
    },
    {
      "cell_type": "code",
      "source": [
        "#resultant string and length\n",
        "str1 = input(\"Enter first string: \")\n",
        "str2 = input(\"Enter second string: \" )\n",
        "Add = str1 + str2\n",
        "print(\"Resultant string is:\", Add)\n",
        "print(\"Length of the resultant string is:\", len(Add))"
      ],
      "metadata": {
        "id": "hXwJYTEwVv7x",
        "colab": {
          "base_uri": "https://localhost:8080/"
        },
        "outputId": "0fdf37c0-6669-4f4f-9dfa-686a7c79740e"
      },
      "execution_count": null,
      "outputs": [
        {
          "output_type": "stream",
          "name": "stdout",
          "text": [
            "Enter first string: shifana\n",
            "Enter second string: fathima\n",
            "Resultant string is: shifanafathima\n",
            "Length of the resultant string is: 14\n"
          ]
        }
      ]
    },
    {
      "cell_type": "code",
      "source": [
        "#tuple of integer\n",
        "tup = (78,45,32,19,82,77,40,39)\n",
        "lst = list(tup)\n",
        "lst[2] = 100\n",
        "tup = tuple(lst)\n",
        "print(tup)"
      ],
      "metadata": {
        "id": "3V4QgVIAV7ux",
        "colab": {
          "base_uri": "https://localhost:8080/"
        },
        "outputId": "3bb2718f-1686-4abd-d035-c74847eada2b"
      },
      "execution_count": null,
      "outputs": [
        {
          "output_type": "stream",
          "name": "stdout",
          "text": [
            "(78, 45, 100, 19, 82, 77, 40, 39)\n"
          ]
        }
      ]
    },
    {
      "cell_type": "code",
      "source": [
        "#list a number\n",
        "lst = [19,32,10,55,31,32,94,29,10,65,77,40,40]\n",
        "lst[9] = 300\n",
        "lst.remove(32)\n",
        "while 40 in lst:\n",
        "    lst.remove(40)\n",
        "del lst[5]\n",
        "print(len(lst))\n",
        "lst[2]+=200\n",
        "s=0\n",
        "for i in lst:\n",
        "  s=s+i\n",
        "print(lst)\n",
        "print(\"Length of list:\", len(lst))\n",
        "print(\"Maximum value in list:\", max(lst))\n",
        "print(\"Sum of all elements in list:\", s)"
      ],
      "metadata": {
        "id": "xWHzzMM6WBEz",
        "colab": {
          "base_uri": "https://localhost:8080/"
        },
        "outputId": "062969b3-836a-4b9b-a202-0d65ef1dba4b"
      },
      "execution_count": null,
      "outputs": [
        {
          "output_type": "stream",
          "name": "stdout",
          "text": [
            "9\n",
            "[19, 10, 255, 31, 32, 29, 10, 300, 77]\n",
            "Length of list: 9\n",
            "Maximum value in list: 300\n",
            "Sum of all elements in list: 763\n"
          ]
        }
      ]
    }
  ]
}