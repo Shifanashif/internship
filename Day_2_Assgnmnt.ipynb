{
  "nbformat": 4,
  "nbformat_minor": 0,
  "metadata": {
    "colab": {
      "provenance": [],
      "authorship_tag": "ABX9TyOBPQ6c+B76EnjBzStumy/C",
      "include_colab_link": true
    },
    "kernelspec": {
      "name": "python3",
      "display_name": "Python 3"
    },
    "language_info": {
      "name": "python"
    }
  },
  "cells": [
    {
      "cell_type": "markdown",
      "metadata": {
        "id": "view-in-github",
        "colab_type": "text"
      },
      "source": [
        "<a href=\"https://colab.research.google.com/github/Shifanashif/internship/blob/main/Day_2_Assgnmnt.ipynb\" target=\"_parent\"><img src=\"https://colab.research.google.com/assets/colab-badge.svg\" alt=\"Open In Colab\"/></a>"
      ]
    },
    {
      "cell_type": "markdown",
      "source": [
        "This is a fruit list, [’banana’, ’orange’, ’mango’, ’lemon’] reverse the order using loop."
      ],
      "metadata": {
        "id": "MG_Vmh7w1ecS"
      }
    },
    {
      "cell_type": "code",
      "source": [
        "fruits = ['banana', 'orange', 'mango', 'lemon']\n",
        "\n",
        "for i in range(len(fruits)//2):\n",
        "    temp = fruits[i]\n",
        "    fruits[i] = fruits[-i-1]\n",
        "    fruits[-i-1] = temp\n",
        "\n",
        "print(fruits)"
      ],
      "metadata": {
        "colab": {
          "base_uri": "https://localhost:8080/"
        },
        "id": "25h_emqd1mL5",
        "outputId": "4d9b85e0-e05d-4812-cac4-ea2074b640b1"
      },
      "execution_count": null,
      "outputs": [
        {
          "output_type": "stream",
          "name": "stdout",
          "text": [
            "['lemon', 'mango', 'orange', 'banana']\n"
          ]
        }
      ]
    },
    {
      "cell_type": "markdown",
      "source": [
        "Write a python program to print the first 10 numbers Fibonacci series"
      ],
      "metadata": {
        "id": "_7CRF2Bc1xsR"
      }
    },
    {
      "cell_type": "code",
      "source": [
        "a, b = 0, 1\n",
        "\n",
        "for i in range(10):\n",
        "    print(a)\n",
        "    a, b = b, a+b"
      ],
      "metadata": {
        "colab": {
          "base_uri": "https://localhost:8080/"
        },
        "id": "N0xNXnzA16oz",
        "outputId": "091fe1e0-c073-4e06-cbbe-4b95a1c180c2"
      },
      "execution_count": null,
      "outputs": [
        {
          "output_type": "stream",
          "name": "stdout",
          "text": [
            "0\n",
            "1\n",
            "1\n",
            "2\n",
            "3\n",
            "5\n",
            "8\n",
            "13\n",
            "21\n",
            "34\n"
          ]
        }
      ]
    },
    {
      "cell_type": "markdown",
      "source": [
        "Write a python program to print all prime numbers between 0 to 100 , and print how many prime numbers are there."
      ],
      "metadata": {
        "id": "6ZpTvQ6-2M8q"
      }
    },
    {
      "cell_type": "code",
      "source": [
        "def is_prime(num):\n",
        "    if num < 2:\n",
        "        return False\n",
        "    for i in range(2, int(num**0.5) + 1):\n",
        "        if num % i == 0:\n",
        "            return False\n",
        "    return True\n",
        "\n",
        "\n",
        "count = 0\n",
        "for i in range(0, 101):\n",
        "    if is_prime(i):\n",
        "        print(i)\n",
        "        count += 1\n",
        "\n",
        "\n",
        "print(\"There are\", count, \"prime numbers between 0 and 100.\")"
      ],
      "metadata": {
        "colab": {
          "base_uri": "https://localhost:8080/"
        },
        "id": "ZkVhEPbH2TRV",
        "outputId": "6a45b854-9e04-407e-e87c-8717336fc03b"
      },
      "execution_count": null,
      "outputs": [
        {
          "output_type": "stream",
          "name": "stdout",
          "text": [
            "2\n",
            "3\n",
            "5\n",
            "7\n",
            "11\n",
            "13\n",
            "17\n",
            "19\n",
            "23\n",
            "29\n",
            "31\n",
            "37\n",
            "41\n",
            "43\n",
            "47\n",
            "53\n",
            "59\n",
            "61\n",
            "67\n",
            "71\n",
            "73\n",
            "79\n",
            "83\n",
            "89\n",
            "97\n",
            "There are 25 prime numbers between 0 and 100.\n"
          ]
        }
      ]
    },
    {
      "cell_type": "markdown",
      "source": [
        "Write a python program to read a number ,if it is an even number , print the square of that number and if it is odd number print cube of that number"
      ],
      "metadata": {
        "id": "5HVBRXb02xGC"
      }
    },
    {
      "cell_type": "code",
      "source": [
        "number = int(input(\"Enter a number: \"))\n",
        "\n",
        "if number % 2 == 0:\n",
        "    square = number ** 2\n",
        "    print(\"The square of\", number, \"is\", square)\n",
        "else:\n",
        "    cube = number ** 3\n",
        "    print(\"The cube of\", number, \"is\", cube)"
      ],
      "metadata": {
        "colab": {
          "base_uri": "https://localhost:8080/"
        },
        "id": "V8R0H9e52ys1",
        "outputId": "cf0e493a-a544-4f46-bcaf-03b76a6975ce"
      },
      "execution_count": null,
      "outputs": [
        {
          "output_type": "stream",
          "name": "stdout",
          "text": [
            "Enter a number: 4\n",
            "The square of 4 is 16\n"
          ]
        }
      ]
    },
    {
      "cell_type": "markdown",
      "source": [
        "Write a python program to find the longest word in a given sentence"
      ],
      "metadata": {
        "id": "KrW__dPg3GCs"
      }
    },
    {
      "cell_type": "code",
      "source": [
        "sentence = input(\"Enter a sentence: \")\n",
        "words = sentence.split()\n",
        "longest_word = \"\"\n",
        "for word in words:\n",
        "    if len(word) > len(longest_word):\n",
        "        longest_word = word\n",
        "print(\"The longest word in the sentence is:\", longest_word)"
      ],
      "metadata": {
        "colab": {
          "base_uri": "https://localhost:8080/"
        },
        "id": "Ez7XGOcm3Psx",
        "outputId": "f1d1b893-1c27-4195-a1eb-db67c61bd49f"
      },
      "execution_count": null,
      "outputs": [
        {
          "output_type": "stream",
          "name": "stdout",
          "text": [
            "Enter a sentence: have a nice day friend\n",
            "The longest word in the sentence is: friend\n"
          ]
        }
      ]
    },
    {
      "cell_type": "markdown",
      "source": [
        "Finding the average of 5 numbers using while loop"
      ],
      "metadata": {
        "id": "7CHZDufB3wZY"
      }
    },
    {
      "cell_type": "code",
      "source": [
        "sum = 0\n",
        "count = 0\n",
        "while count < 5:\n",
        "    num = float(input(\"Enter a number: \"))\n",
        "    sum += num\n",
        "    count += 1\n",
        "avg = sum / 5\n",
        "print(\"The average of the 5 numbers is:\", avg)"
      ],
      "metadata": {
        "colab": {
          "base_uri": "https://localhost:8080/"
        },
        "id": "TmOqP1w833sY",
        "outputId": "1447276e-4ea9-461e-d9f3-37b314f2a39c"
      },
      "execution_count": null,
      "outputs": [
        {
          "output_type": "stream",
          "name": "stdout",
          "text": [
            "Enter a number: 5\n",
            "Enter a number: 4\n",
            "Enter a number: 3\n",
            "Enter a number: 8\n",
            "Enter a number: 1\n",
            "The average of the 5 numbers is: 4.2\n"
          ]
        }
      ]
    },
    {
      "cell_type": "markdown",
      "source": [
        "Arun took a loan of Rs1,00,000 at an interest of 5% to buy a car. Using the formula: interest = principal value * rate and amount = principal + interest, print the interest and amount to be paid for each of the next 5 years."
      ],
      "metadata": {
        "id": "sX1iuLCp4HbR"
      }
    },
    {
      "cell_type": "code",
      "source": [
        "principal = 100000\n",
        "rate = 0.05\n",
        "for i in range(1, 6):\n",
        "    interest = principal * rate\n",
        "    amount = principal + interest\n",
        "    print(\"Year\", i, \"Interest:\", interest, \"Amount:\", amount)\n",
        "    principal = amount"
      ],
      "metadata": {
        "colab": {
          "base_uri": "https://localhost:8080/"
        },
        "id": "Lgjpf9UF4Rph",
        "outputId": "1c12e764-3dd6-41d0-f507-af0ddfb6850e"
      },
      "execution_count": null,
      "outputs": [
        {
          "output_type": "stream",
          "name": "stdout",
          "text": [
            "Year 1 Interest: 5000.0 Amount: 105000.0\n",
            "Year 2 Interest: 5250.0 Amount: 110250.0\n",
            "Year 3 Interest: 5512.5 Amount: 115762.5\n",
            "Year 4 Interest: 5788.125 Amount: 121550.625\n",
            "Year 5 Interest: 6077.53125 Amount: 127628.15625\n"
          ]
        }
      ]
    },
    {
      "cell_type": "markdown",
      "source": [
        "Python program to find the sum of the digits of an integer using while loop"
      ],
      "metadata": {
        "id": "oZwXh4PP4y-E"
      }
    },
    {
      "cell_type": "code",
      "source": [
        "num = int(input(\"Enter an integer: \"))\n",
        "sum = 0\n",
        "while num > 0:\n",
        "    digit = num % 10    \n",
        "    sum += digit        \n",
        "    num //= 10          \n",
        "print(\"The sum of the digits is:\", sum)"
      ],
      "metadata": {
        "colab": {
          "base_uri": "https://localhost:8080/"
        },
        "id": "21uEP3Jd44gu",
        "outputId": "6c821845-4d0a-4046-8dc7-ce552437b857"
      },
      "execution_count": null,
      "outputs": [
        {
          "output_type": "stream",
          "name": "stdout",
          "text": [
            "Enter an integer: 6\n",
            "The sum of the digits is: 6\n"
          ]
        }
      ]
    },
    {
      "cell_type": "markdown",
      "source": [
        "Using if loop, find out if the year 2034 and 2048 are leap years"
      ],
      "metadata": {
        "id": "lCSS4h1l5JrB"
      }
    },
    {
      "cell_type": "code",
      "source": [
        "if 2034 % 4 == 0:\n",
        "    if 2034 % 100 == 0:\n",
        "        if 2034 % 400 == 0:\n",
        "            print(\"2034 is a leap year\")\n",
        "        else:\n",
        "            print(\"2034 is not a leap year\")\n",
        "    else:\n",
        "        print(\"2034 is a leap year\")\n",
        "else:\n",
        "    print(\"2034 is not a leap year\")\n",
        "\n",
        "if 2048 % 4 == 0:\n",
        "    if 2048 % 100 == 0:\n",
        "        if 2048 % 400 == 0:\n",
        "            print(\"2048 is a leap year\")\n",
        "        else:\n",
        "            print(\"2048 is not a leap year\")\n",
        "    else:\n",
        "        print(\"2048 is a leap year\")\n",
        "else:\n",
        "    print(\"2048 is not a leap year\")"
      ],
      "metadata": {
        "colab": {
          "base_uri": "https://localhost:8080/"
        },
        "id": "PaMmmDVm5SFe",
        "outputId": "0771586f-4163-437c-bd77-be8aed5123d6"
      },
      "execution_count": null,
      "outputs": [
        {
          "output_type": "stream",
          "name": "stdout",
          "text": [
            "2034 is not a leap year\n",
            "2048 is a leap year\n"
          ]
        }
      ]
    }
  ]
}